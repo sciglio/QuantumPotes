{
 "cells": [
  {
   "cell_type": "markdown",
   "metadata": {},
   "source": [
    "# This Python notebook is only used to nicely plots pulse sequences"
   ]
  },
  {
   "cell_type": "markdown",
   "metadata": {},
   "source": [
    "### Import libraries and define some plots details"
   ]
  },
  {
   "cell_type": "code",
   "execution_count": 51,
   "metadata": {},
   "outputs": [],
   "source": [
    "import numpy as np\n",
    "import matplotlib.pyplot as plt\n",
    "import matplotlib\n",
    "\n",
    "font = {'family' : 'normal',\n",
    "        'weight' : 'normal',\n",
    "        'size'   : 22}\n",
    "\n",
    "matplotlib.rc('font', **font)"
   ]
  },
  {
   "cell_type": "markdown",
   "metadata": {},
   "source": [
    "### Define some functions for plotting pulses"
   ]
  },
  {
   "cell_type": "code",
   "execution_count": 52,
   "metadata": {},
   "outputs": [],
   "source": [
    "def cosineRise(t,T0,T1,A):\n",
    "    return A*((np.cos(np.pi*(t-T0)/(T1-T0)-np.pi)+1)/2)\n",
    "def cosineFall(t,T0,T1,A):\n",
    "    return A*((np.cos(np.pi*(t-T0)/(T1-T0))+1)/2)\n",
    "def platau(t, A):\n",
    "    return A\n",
    "\n",
    "def Pulse(t, T0,T1, A, t_rise, t_fall, x):\n",
    "    y=0\n",
    "    if (T1-T0)< (t_rise+t_fall):\n",
    "        print(\"Total pulse time must be larger than the sum of the rise and fall\")\n",
    "        exit\n",
    "    if x=='PULSE':\n",
    "        if t<=(T0+t_rise) and t>T0:\n",
    "            y=cosineRise(t,T0,T0+t_rise,A)\n",
    "        if (t>(t_rise+T0) and t<=(T1-t_fall)):\n",
    "            y=A\n",
    "        if t>(T1-t_fall) and t<T1:\n",
    "            y= cosineFall(t,T1-t_fall,T1,A)\n",
    "            \n",
    "    if x=='SQUARE':\n",
    "        if (t<=T1 and t>T0):\n",
    "            y=A\n",
    "    return y"
   ]
  },
  {
   "cell_type": "markdown",
   "metadata": {},
   "source": [
    "### Define traces' parameters and standard Pulses"
   ]
  },
  {
   "cell_type": "code",
   "execution_count": 53,
   "metadata": {},
   "outputs": [],
   "source": [
    "total_duration=1000       #Total duration in ns\n",
    "N_channel=2               #How many different lines are there in the experiment?\n",
    "N_Pulse_Ch=[1,2]          #Number of pulse for each channel\n",
    "\n",
    "\n",
    "\n",
    "#Define matrix of pulses\n",
    "#P Channel _ Pulse = [Starting , End, Amplitude, Rise, Fall, TYPE]\n",
    "Amplitude=1\n",
    "P1_1=[ 100, 200, Amplitude, 40, 40,'PULSE']\n",
    "P2_1=[205, 305, Amplitude, 10, 10,'SQUARE']\n",
    "P2_2=[305, 900, 0.2*Amplitude, 10, 10,'SQUARE']\n",
    "P=[[P1_1],[P2_1,P2_2]]\n",
    "\n",
    "#Define Channels Name\n",
    "Ch_names=['XY', 'RO']\n",
    "Ch_colors=['blue', 'yellow']"
   ]
  },
  {
   "cell_type": "markdown",
   "metadata": {},
   "source": [
    "### Define particular case and compose the trace"
   ]
  },
  {
   "cell_type": "code",
   "execution_count": 55,
   "metadata": {},
   "outputs": [],
   "source": [
    "#define empty list for all the sequences on different channels \n",
    "traces=[]\n",
    "\n",
    "for i in range(N_channel):\n",
    "    y=np.zeros(total_duration)\n",
    "    for j in range(N_Pulse_Ch[i]):\n",
    "        for t in range(total_duration):\n",
    "             y[t]+=Pulse(t,P[i][j][0], P[i][j][1], P[i][j][2], P[i][j][3], P[i][j][4],P[i][j][5])\n",
    "    traces.append(np.asarray(y))\n",
    "#In the list traces there are n channels arrays that represent the pulses\n"
   ]
  },
  {
   "cell_type": "markdown",
   "metadata": {},
   "source": [
    "### Plotting the Pulses "
   ]
  },
  {
   "cell_type": "code",
   "execution_count": 56,
   "metadata": {},
   "outputs": [
    {
     "data": {
      "text/plain": [
       "Text(0.5, 0, 'Time (ns)')"
      ]
     },
     "execution_count": 56,
     "metadata": {},
     "output_type": "execute_result"
    },
    {
     "data": {
      "image/png": "[encoded data removed]",
      "text/plain": [
       "<Figure size 432x288 with 1 Axes>"
      ]
     },
     "metadata": {
      "needs_background": "light"
     },
     "output_type": "display_data"
    }
   ],
   "source": [
    "times=np.linspace(0,total_duration, total_duration)\n",
    "plt.figure(1)\n",
    "frame=plt.gca()\n",
    "frame.axes.get_yaxis().set_visible(False)\n",
    "\n",
    "for i in range(N_channel):\n",
    "    shift=-np.ones(total_duration)*1.2*Amplitude*i\n",
    "    plt.plot(times,traces[i]+shift[i], color='black')\n",
    "    plt.fill_between(times, traces[i]+shift[i],shift[i],facecolor=Ch_colors[i], alpha=0.5)\n",
    "    plt.text(-200, shift[i], Ch_names[i], fontsize=20)\n",
    "    \n",
    "\n",
    "frame.spines['left'].set_visible(False)\n",
    "frame.spines['right'].set_visible(False)\n",
    "frame.spines['top'].set_visible(False)\n",
    "\n",
    "plt.xlabel('Time (ns)')\n",
    "\n"
   ]
  },
  {
   "cell_type": "code",
   "execution_count": null,
   "metadata": {},
   "outputs": [],
   "source": []
  }
 ],
 "metadata": {
  "kernelspec": {
   "display_name": "Python 3",
   "language": "python",
   "name": "python3"
  },
  "language_info": {
   "codemirror_mode": {
    "name": "ipython",
    "version": 3
   },
   "file_extension": ".py",
   "mimetype": "text/x-python",
   "name": "python",
   "nbconvert_exporter": "python",
   "pygments_lexer": "ipython3",
   "version": "3.7.0"
  }
 },
 "nbformat": 4,
 "nbformat_minor": 2
}
